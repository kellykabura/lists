{
 "cells": [
  {
   "cell_type": "code",
   "execution_count": 1,
   "metadata": {},
   "outputs": [
    {
     "name": "stdout",
     "output_type": "stream",
     "text": [
      "Hello\n"
     ]
    }
   ],
   "source": [
    "print(\"Hello\")"
   ]
  },
  {
   "cell_type": "code",
   "execution_count": 5,
   "metadata": {},
   "outputs": [
    {
     "name": "stdout",
     "output_type": "stream",
     "text": [
      "<class 'str'>\n",
      "<class 'int'>\n",
      "<class 'bool'>\n"
     ]
    }
   ],
   "source": [
    "name =\"John Doe\"\n",
    "print(type(name))\n",
    "\n",
    "x = 10\n",
    "print(type(x))\n",
    "\n",
    "is_student =True\n",
    "print(type(is_student))"
   ]
  },
  {
   "cell_type": "code",
   "execution_count": 9,
   "metadata": {},
   "outputs": [
    {
     "name": "stdout",
     "output_type": "stream",
     "text": [
      "[1, 2, 3, 4, 5]\n",
      "['sugar', 'milk', 'eggs', 'bread']\n",
      "['sugar', 'milk', 3, 5, True, False]\n",
      "['sugar', 'milk', 3, 5, True, False, ['detergents', 'tissues']]\n"
     ]
    }
   ],
   "source": [
    "#lists are mutable(you can modify tyhe data)\n",
    "#lists have a collection of elements of differenet data types\n",
    "#lists use []\n",
    "\n",
    "numbers = [1, 2, 3,4, 5]\n",
    "print( numbers)\n",
    "\n",
    "shopping = ['sugar', 'milk', 'eggs', 'bread']\n",
    "print(shopping)\n",
    "\n",
    "mixed_list = ['sugar', 'milk', 3, 5, True, False]\n",
    "print(mixed_list)\n",
    "\n",
    "#nested list -list within a list\n",
    "nested_list =['sugar', 'milk', 3, 5, True, False, ['detergents','tissues']]\n",
    "print(nested_list)\n",
    "\n"
   ]
  },
  {
   "cell_type": "code",
   "execution_count": 10,
   "metadata": {},
   "outputs": [
    {
     "name": "stdout",
     "output_type": "stream",
     "text": [
      "index:0: sugar\n",
      "index:1: milk\n",
      "index:2: eggs\n",
      "index:3: bread\n"
     ]
    }
   ],
   "source": [
    "shopping = ['sugar', 'milk', 'eggs', 'bread']\n",
    "for index, item in enumerate(shopping):\n",
    "    print(f\"index:{index}: {item}\")"
   ]
  },
  {
   "cell_type": "code",
   "execution_count": 14,
   "metadata": {},
   "outputs": [
    {
     "name": "stdout",
     "output_type": "stream",
     "text": [
      "bread\n",
      "sugar\n",
      "eggs\n"
     ]
    }
   ],
   "source": [
    "print(shopping[3])\n",
    "print(shopping[0])\n",
    "print(shopping[2])\n"
   ]
  },
  {
   "cell_type": "code",
   "execution_count": 16,
   "metadata": {},
   "outputs": [
    {
     "name": "stdout",
     "output_type": "stream",
     "text": [
      "1\n",
      "3\n"
     ]
    }
   ],
   "source": [
    "#you dont know the index\n",
    "print(shopping.index('milk'))\n",
    "print(shopping.index('bread'))"
   ]
  },
  {
   "cell_type": "code",
   "execution_count": 18,
   "metadata": {},
   "outputs": [
    {
     "name": "stdout",
     "output_type": "stream",
     "text": [
      "['detergents', 'tissues']\n",
      "sugar\n"
     ]
    }
   ],
   "source": [
    "#how to access an item in alist that is nested\n",
    "print(nested_list[6])\n",
    "print(nested_list[0])"
   ]
  },
  {
   "cell_type": "code",
   "execution_count": 24,
   "metadata": {},
   "outputs": [
    {
     "name": "stdout",
     "output_type": "stream",
     "text": [
      "[['Toyota Corrolla', 'Toyota Camry', 'Toyota Probox', 'Toyota Harrier'], ['Ford Mustang', 'Ford Explorer', 'Ford Raptor', 'Ford F-150'], ['Honda Civic', 'Honda Fit', 'Honda CR-V']]\n",
      "Honda CR-V\n"
     ]
    }
   ],
   "source": [
    "cars = [\n",
    "    ['Toyota Corrolla', 'Toyota Camry', 'Toyota Probox', 'Toyota Harrier'],\n",
    "    ['Ford Mustang','Ford Explorer','Ford Raptor','Ford F-150'],\n",
    "    ['Honda Civic','Honda Fit','Honda CR-V',]\n",
    "]\n",
    "print(cars)\n",
    "print(cars[2][2])\n",
    "for care"
   ]
  },
  {
   "cell_type": "code",
   "execution_count": 25,
   "metadata": {},
   "outputs": [
    {
     "name": "stdout",
     "output_type": "stream",
     "text": [
      "sugar\n",
      "milk\n",
      "eggs\n",
      "bread\n"
     ]
    }
   ],
   "source": [
    "shopping = ['sugar', 'milk', 'eggs', 'bread']\n",
    "for item in shopping:\n",
    "    print(item)"
   ]
  },
  {
   "cell_type": "code",
   "execution_count": 26,
   "metadata": {},
   "outputs": [
    {
     "name": "stdout",
     "output_type": "stream",
     "text": [
      "sugar\n",
      "milk\n",
      "eggs\n",
      "bread\n",
      "cooking oil\n"
     ]
    }
   ],
   "source": [
    "#when you want to add an item in your list-maybe you forgot\n",
    "shopping = ['sugar', 'milk', 'eggs', 'bread']\n",
    "shopping.append('cooking oil')\n",
    "for item in shopping:\n",
    "    print(item)\n",
    "    #for single item"
   ]
  },
  {
   "cell_type": "code",
   "execution_count": 29,
   "metadata": {},
   "outputs": [
    {
     "name": "stdout",
     "output_type": "stream",
     "text": [
      "sugar\n",
      "milk\n",
      "eggs\n",
      "bread\n",
      "cooking oil\n",
      "salt\n"
     ]
    }
   ],
   "source": [
    "shopping = ['sugar', 'milk', 'eggs', 'bread']\n",
    "shopping.extend(['cooking oil','salt'])\n",
    "for item in shopping:\n",
    "    print(item)\n",
    "    #if you forgot more than 1 item"
   ]
  },
  {
   "cell_type": "code",
   "execution_count": 30,
   "metadata": {},
   "outputs": [
    {
     "name": "stdout",
     "output_type": "stream",
     "text": [
      "sugar\n",
      "milk\n",
      "cooking oil\n",
      "eggs\n",
      "bread\n"
     ]
    }
   ],
   "source": [
    "shopping = ['sugar', 'milk', 'eggs', 'bread']\n",
    "shopping.insert(2,'cooking oil')\n",
    "for item in shopping:\n",
    "    print(item)\n",
    "    #adding an item to a specific position"
   ]
  },
  {
   "cell_type": "code",
   "execution_count": 31,
   "metadata": {},
   "outputs": [
    {
     "name": "stdout",
     "output_type": "stream",
     "text": [
      "milk\n",
      "eggs\n",
      "bread\n"
     ]
    }
   ],
   "source": [
    "shopping = ['sugar', 'milk', 'eggs', 'bread']\n",
    "shopping.remove('sugar')\n",
    "\n",
    "for item in shopping:\n",
    " print(item)\n",
    "#to remove an item"
   ]
  },
  {
   "cell_type": "code",
   "execution_count": 33,
   "metadata": {},
   "outputs": [
    {
     "name": "stdout",
     "output_type": "stream",
     "text": [
      "2\n"
     ]
    }
   ],
   "source": [
    "shopping = ['sugar', 'milk', 'eggs', 'bread','sugar']\n",
    "count =shopping.count('sugar')\n",
    "\n",
    "print(count)"
   ]
  },
  {
   "cell_type": "code",
   "execution_count": 34,
   "metadata": {},
   "outputs": [
    {
     "name": "stdout",
     "output_type": "stream",
     "text": [
      "bread\n",
      "eggs\n",
      "milk\n",
      "sugar\n"
     ]
    }
   ],
   "source": [
    "shopping = ['sugar', 'milk', 'eggs', 'bread']\n",
    "shopping.reverse()\n",
    "\n",
    "for item in shopping:\n",
    " print(item)"
   ]
  }
 ],
 "metadata": {
  "kernelspec": {
   "display_name": "Python 3",
   "language": "python",
   "name": "python3"
  },
  "language_info": {
   "codemirror_mode": {
    "name": "ipython",
    "version": 3
   },
   "file_extension": ".py",
   "mimetype": "text/x-python",
   "name": "python",
   "nbconvert_exporter": "python",
   "pygments_lexer": "ipython3",
   "version": "3.12.6"
  }
 },
 "nbformat": 4,
 "nbformat_minor": 2
}
